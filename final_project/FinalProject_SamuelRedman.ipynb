{
 "cells": [
  {
   "cell_type": "markdown",
   "metadata": {},
   "source": [
    "# COGS 108 - Final Project "
   ]
  },
  {
   "cell_type": "markdown",
   "metadata": {},
   "source": [
    "# Overview"
   ]
  },
  {
   "cell_type": "markdown",
   "metadata": {},
   "source": [
    "*Fill in your overview here*"
   ]
  },
  {
   "cell_type": "markdown",
   "metadata": {},
   "source": [
    "# Name & GitHub ID\n",
    "\n",
    "- Name: Samuel Redman\n",
    "- GitHub Username: SamuelRedman"
   ]
  },
  {
   "cell_type": "markdown",
   "metadata": {},
   "source": [
    "# Research Question"
   ]
  },
  {
   "cell_type": "markdown",
   "metadata": {},
   "source": [
    "*Fill in your research question here*"
   ]
  },
  {
   "cell_type": "markdown",
   "metadata": {},
   "source": [
    "## Background and Prior Work"
   ]
  },
  {
   "cell_type": "markdown",
   "metadata": {},
   "source": [
    "Since this project deals with language describing COVID-19, as well as numerical rankings associated with the review of locations in San Diego, a glossary was necessary to have appropriate terminology to identify reviews containing information regarding COVID-19\n",
    "\n",
    "References (include links):\n",
    "- 1) https://www.yalemedicine.org/news/covid-19-glossary\n",
    "- 2)"
   ]
  },
  {
   "cell_type": "markdown",
   "metadata": {},
   "source": [
    "# Hypothesis\n"
   ]
  },
  {
   "cell_type": "markdown",
   "metadata": {},
   "source": [
    "Is there a relationship between COVID-19 terms used in a Yelp review and review ratings for locations within San Diego County? "
   ]
  },
  {
   "cell_type": "markdown",
   "metadata": {},
   "source": [
    "# Dataset(s)"
   ]
  },
  {
   "cell_type": "markdown",
   "metadata": {},
   "source": [
    "*Fill in your dataset information here*\n",
    "\n",
    "(Copy this information for each dataset)\n",
    "- Dataset Name: yelp_SD_reviews.csv\n",
    "- Link to the dataset: https://github.com/COGS108/individual_fa20/blob/master/data/yelp_SD_reviews.csv\n",
    "- Number of observations: 3 (id, rating, text)\n",
    "\n",
    "- Dataset Name: yelp_SD_parks.csv\n",
    "- Link to the dataset: https://github.com/COGS108/individual_fa20/blob/master/data/yelp_SD_parks.csv\n",
    "- Number of observations: 10 (number of columns?)\n",
    "\n",
    "1-2 sentences describing each dataset. \n",
    "\n",
    "If you plan to use multiple datasets, add 1-2 sentences about how you plan to combine these datasets."
   ]
  },
  {
   "cell_type": "markdown",
   "metadata": {},
   "source": [
    "# Setup"
   ]
  },
  {
   "cell_type": "code",
   "execution_count": 2,
   "metadata": {},
   "outputs": [],
   "source": [
    "# imports\n",
    "import pandas as pd\n",
    "import numpy as np\n",
    "import matplotlib.pyplot as plt\n",
    "import seaborn as sns\n",
    "import warnings\n",
    "import patsy\n",
    "import statsmodels.api as sm\n",
    "import scipy.stats as stats\n",
    "from scipy.stats import ttest_ind, chisquare, normaltest\n",
    "from numpy import median\n",
    "\n",
    "pd.set_option('display.expand_frame_repr', False)\n",
    "\n",
    "sns.set()\n",
    "sns.set_context('talk')\n",
    "warnings.filterwarnings('ignore')\n",
    "\n",
    "key_terms = ['coronavirus','covid','sars','epidemic','outbreak','pandemic','transmission','asymptomatic','social distance',\n",
    "            'social distancing','social distanced','shelter-in-place','shelter in place','isolation','isolating',\n",
    "            'test','mask','respirator','vaccine']\n"
   ]
  },
  {
   "cell_type": "markdown",
   "metadata": {},
   "source": [
    "# Data Cleaning"
   ]
  },
  {
   "cell_type": "markdown",
   "metadata": {},
   "source": [
    "The file for yelp information is already very clean and succinct. The only changes I made to the file is changing the 'review' column to lower case so that the key_terms list can be easily compared without need to have duplicate values for a variety of casings. "
   ]
  },
  {
   "cell_type": "code",
   "execution_count": 75,
   "metadata": {
    "collapsed": false
   },
   "outputs": [],
   "source": [
    "# can later change this to just the file name , just python interpreter doesn't know\n",
    "df = pd.read_csv('C:/Users/Sam/PycharmProjects/individual_fa20/final_project/yelp_SD_reviews.csv', dtype=str)\n",
    "df.columns = ['id', 'rating', 'review']\n",
    "df['review'] = df['review'].str.lower()\n",
    "df_with_keywords = df[df['review'].str.contains('|'.join(key_terms))]\n",
    "\n",
    "\n",
    "\n",
    "combined_ratings_df = pd.concat([pd.Series(df['rating']).value_counts(), pd.Series(df_with_keywords['rating']).value_counts()], axis=1)\n",
    "combined_ratings_df.columns = ['Without Keywords', 'With Keywords']\n",
    "combined_ratings_df = combined_ratings_df.reset_index().melt(id_vars='index')\n",
    "combined_ratings_df.pivot(index='index', columns= 'variable', values='value')\n",
    "combined_ratings_df.sort_values(by=['index'],inplace=True)\n",
    "\n",
    "\n"
   ]
  },
  {
   "cell_type": "markdown",
   "metadata": {},
   "source": [
    "# Data Analysis & Results"
   ]
  },
  {
   "cell_type": "markdown",
   "metadata": {},
   "source": [
    "Include cells that describe the steps in your data analysis."
   ]
  },
  {
   "cell_type": "code",
   "execution_count": 77,
   "metadata": {},
   "outputs": [
    {
     "data": {
      "image/png": "[encoded data removed]",
      "text/plain": [
       "<Figure size 432x288 with 1 Axes>"
      ]
     },
     "metadata": {},
     "output_type": "display_data"
    }
   ],
   "source": [
    "fig = sns.barplot(x ='index',\n",
    "                  y = 'value',\n",
    "                  hue = 'variable',\n",
    "                  data = combined_ratings_df,\n",
    "                  palette=['blue', 'red'],\n",
    "                  alpha = 0.5,\n",
    "                  )\n",
    "# graph formatting\n",
    "plt.xlabel('Rating')\n",
    "plt.ylabel('Frequency')\n",
    "\n",
    "# annotation of exact count/frequency of bar for better clarity\n",
    "ax = fig\n",
    "for p in ax.patches:\n",
    "    ax.annotate(\"%d\" % p.get_height(), (p.get_x() + p.get_width() / 2, p.get_height()),\n",
    "                 ha='center', va='center', fontsize=12, color='gray', xytext=(0, 20),\n",
    "                 textcoords='offset points') \n"
   ]
  },
  {
   "cell_type": "markdown",
   "metadata": {},
   "source": [
    "# Ethics & Privacy"
   ]
  },
  {
   "cell_type": "markdown",
   "metadata": {},
   "source": [
    "Yelp data is public, and while users' names are available in-app and on their website, this data does not contain information pertaining to individual people's identities. As this is the case, I believe that it is very ethical."
   ]
  },
  {
   "cell_type": "markdown",
   "metadata": {},
   "source": [
    "# Conclusion & Discussion"
   ]
  },
  {
   "cell_type": "markdown",
   "metadata": {},
   "source": [
    "*Fill in your discussion information here*"
   ]
  },
  {
   "cell_type": "code",
   "execution_count": null,
   "metadata": {},
   "outputs": [],
   "source": []
  }
 ],
 "metadata": {
  "kernelspec": {
   "display_name": "Python 3",
   "language": "python",
   "name": "python3"
  },
  "language_info": {
   "codemirror_mode": {
    "name": "ipython",
    "version": 3
   },
   "file_extension": ".py",
   "mimetype": "text/x-python",
   "name": "python",
   "nbconvert_exporter": "python",
   "pygments_lexer": "ipython3",
   "version": "3.7.9"
  }
 },
 "nbformat": 4,
 "nbformat_minor": 2
}
